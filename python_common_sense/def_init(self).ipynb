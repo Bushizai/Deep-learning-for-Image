{
 "cells": [
  {
   "cell_type": "markdown",
   "id": "0e25d07e-e2a1-48f1-9462-fe78212e7b4f",
   "metadata": {},
   "source": [
    "常见的两种类的定义方式如下：\n",
    "\n",
    "**实例化方法<1>**\n",
    "```python\n",
    "class Student:\n",
    "    def __init__(self):#两者之间的区别\n",
    "        self.name = None\n",
    "        self.score = None\n",
    "```\n",
    "**实例化方法<2>**\n",
    "```python\n",
    "class Student:\n",
    "    def __init__(self, name, score):\n",
    "        self.name = name\n",
    "        self.score = score\n",
    "```\n"
   ]
  },
  {
   "cell_type": "markdown",
   "id": "45a9a161-5c34-4ae0-bee4-257ba424a2ce",
   "metadata": {},
   "source": [
    "区别很明显，前者在__init__方法中，只有一个self，指的是实例的本身，但是在方法的类部，包含两个属性，name， score\n",
    "\n",
    "下面的这个即是在定义方法时，就直接给定了两个参数，\n",
    "\n",
    "针对这样的两个，之前不解的地方，是如何实例化，第二个很明显就是直接实例化时，传入相应的参数，而第一种，则需要实例化之后，对属性进行赋值\n"
   ]
  },
  {
   "cell_type": "markdown",
   "id": "6f11946c-3db8-438d-82de-c538542c31eb",
   "metadata": {},
   "source": [
    "```python\n",
    "# 实例化方法<1>\n",
    "student = Student()\n",
    "student.name= \"sansan\"\n",
    "student.score = 90\n",
    "\n",
    "# 实例化方法<2>\n",
    "student = Student(\"sansan\", 90)\n",
    "```"
   ]
  },
  {
   "cell_type": "markdown",
   "id": "d7ea5f7a-b758-4702-a087-9b9a2e1b249b",
   "metadata": {},
   "source": [
    "即显示了两种实例化的方法， 注释的部分即是在创建的时候就直接传入参数\n",
    "\n",
    "<table><tr><td bgcolor=pink>两种实例化方法的区别:如下</td></tr></table>\n",
    "\n",
    "<font color=red><font face=\"STCAIYUN\">**实例化方法一:**</font></font>他定义了这样一种类，他是一个空的结构,比如学生的表，当学生还没有进行考试时，他已经有了学生的姓名和成绩，当新的数据来的时候，可以直接添加进来。这个可以很方便的进行.\n",
    "\n",
    "<font color=red><font face=\"STCAIYUN\">**实例化方法二**</font></font>第二种实例化方法,则必须传值，不允许为空。当然第二种对于已有数据的导入是很方便的，在语句上减少了很多\n",
    "\n",
    "<table><tr><td bgcolor=pink>下方代码是一个很简单的，两种实例化方法的比较</td></tr></table>\n"
   ]
  },
  {
   "cell_type": "code",
   "execution_count": 6,
   "id": "507b0308-fc30-487a-b76d-99a7d0f52cdd",
   "metadata": {},
   "outputs": [],
   "source": [
    "class Student:\n",
    "    def __init__(self):#两者之间的区别\n",
    "        self.name = None\n",
    "        self.score = None\n",
    " \n",
    "    def print_score(self):\n",
    "        print(\"%s score is %s\" % (self.name, self.score))\n",
    " \n",
    "    def get_grade(self):\n",
    "        if self.score >= 80:\n",
    "            return \"A\"\n",
    "        elif self.score >= 70:\n",
    "            return \"B\"\n",
    "        else:\n",
    "            return \"C\""
   ]
  },
  {
   "cell_type": "code",
   "execution_count": 7,
   "id": "2ddcd244-352a-4060-95d6-5dc65650030a",
   "metadata": {},
   "outputs": [
    {
     "name": "stdout",
     "output_type": "stream",
     "text": [
      "sansan score is 90\n",
      "susan score is 8\n",
      "C\n",
      "A\n"
     ]
    }
   ],
   "source": [
    "# 实例化方法一\n",
    "student = Student()\n",
    "student.name= \"sansan\"\n",
    "student.score = 90\n",
    " \n",
    "\n",
    "susan = Student()\n",
    "susan.name = \"susan\"\n",
    "susan.score = 8\n",
    " \n",
    "student.print_score()\n",
    "susan.print_score()\n",
    "print(susan.get_grade())\n",
    "print(student.get_grade())"
   ]
  },
  {
   "cell_type": "code",
   "execution_count": 8,
   "id": "855dc2b4-2523-49bf-bb6d-6c5ca0cc6ea0",
   "metadata": {},
   "outputs": [],
   "source": [
    "class Student:\n",
    "    def __init__(self, name, score):\n",
    "        self.name = name\n",
    "        self.score = score\n",
    " \n",
    "    def print_score(self):\n",
    "        print(\"%s score is %s\" % (self.name, self.score))\n",
    " \n",
    "    def get_grade(self):\n",
    "        if self.score >= 80:\n",
    "            return \"A\"\n",
    "        elif self.score >= 70:\n",
    "            return \"B\"\n",
    "        else:\n",
    "            return \"C\""
   ]
  },
  {
   "cell_type": "code",
   "execution_count": 9,
   "id": "8cd58b3d-5182-4ceb-a9a3-e7f9cd1b6499",
   "metadata": {},
   "outputs": [
    {
     "name": "stdout",
     "output_type": "stream",
     "text": [
      "sansan score is 90\n",
      "sunny score is 78\n",
      "B\n",
      "A\n"
     ]
    }
   ],
   "source": [
    "student = Student(\"sansan\", 90)\n",
    "susan = Student(\"sunny\", 78)\n",
    "\n",
    "student.print_score()\n",
    "susan.print_score()\n",
    "print(susan.get_grade())\n",
    "print(student.get_grade())"
   ]
  },
  {
   "cell_type": "code",
   "execution_count": null,
   "id": "3eed5686-312e-4d89-85a2-46b99be617d8",
   "metadata": {},
   "outputs": [],
   "source": []
  }
 ],
 "metadata": {
  "kernelspec": {
   "display_name": "zbs",
   "language": "python",
   "name": "zbs"
  },
  "language_info": {
   "codemirror_mode": {
    "name": "ipython",
    "version": 3
   },
   "file_extension": ".py",
   "mimetype": "text/x-python",
   "name": "python",
   "nbconvert_exporter": "python",
   "pygments_lexer": "ipython3",
   "version": "3.7.15"
  }
 },
 "nbformat": 4,
 "nbformat_minor": 5
}
