{
 "cells": [
  {
   "cell_type": "markdown",
   "id": "06246f6e-afde-4632-a262-681b4b15a78e",
   "metadata": {},
   "source": [
    "# self参数\n",
    "self指的是**实例Instance本身**，在`Python`类中规定，函数的第一个参数是实例对象本身，并且约定俗成，把其名字写为`self`，\n",
    "\n",
    "也就是说，类中的方法的第一个参数一定要是`self`，而且不能省略。关于`self`有三点是很重要的：\n",
    "\n",
    "+ `self`指的是实例本身，而不是类\n",
    "+ `self`可以用`this`替代，但是不要这么去写\n",
    "+ 类的方法中的`self`不可以省略"
   ]
  },
  {
   "cell_type": "code",
   "execution_count": 6,
   "id": "fdefbf09-3843-4238-933e-4ce16025f2cd",
   "metadata": {},
   "outputs": [
    {
     "name": "stdout",
     "output_type": "stream",
     "text": [
      "<__main__.Person object at 0x0000014A51A56808>\n",
      "None\n",
      "<class '__main__.Person'>\n",
      "<__main__.Person object at 0x0000014A51A56808>\n"
     ]
    }
   ],
   "source": [
    "class Person():\n",
    "    def eat(self):\n",
    "        print(self)\n",
    "        \n",
    "Alex = Person()\n",
    "A = Alex.eat()\n",
    "print(A)\n",
    "print(Person)\n",
    "print(Alex)"
   ]
  },
  {
   "cell_type": "markdown",
   "id": "6d7a6cc7-f3e6-48d6-a1bb-557e7e59bdac",
   "metadata": {},
   "source": [
    "# __ init__ ()方法\n",
    "在`python`中创建类后，通常会创建一个 `__ init__ ()`方法，这个方法会在创建类的实例的时候自动执行。\n",
    "\n",
    "`__ init__ ()`方法必须包含一个`self`参数，而且要是第一个参数。"
   ]
  },
  {
   "cell_type": "code",
   "execution_count": 9,
   "id": "687c87a3-6a4d-4391-890f-25b53b8107ec",
   "metadata": {},
   "outputs": [
    {
     "name": "stdout",
     "output_type": "stream",
     "text": [
      "小布什\n"
     ]
    }
   ],
   "source": [
    "class Person():\n",
    "     def __init__(self):\n",
    "         print(\"小布什\")\n",
    "         #self.name = name\n",
    "     def eat(self):\n",
    "         print(\"钢铁手腕\")\n",
    "            \n",
    "Alex = Person()"
   ]
  },
  {
   "cell_type": "markdown",
   "id": "d8ffcf17-667c-4069-9331-6a3129919e27",
   "metadata": {},
   "source": [
    "`__ init__ ()`方法就已经自动执行了，但是如果不是` __ init__ ()`方法，比如说`eat（）`方法，那肯定就只有调用才执行."
   ]
  },
  {
   "cell_type": "markdown",
   "id": "c5c2e019-54b4-4d55-8eac-7dcacb6d89f2",
   "metadata": {},
   "source": [
    "再比如说下面的代码，如果` __ init__ ()`方法中还需要传入另一个参数`name`，但是我们在创建`Alex`的实例的时候没有传入`name`，那么程序就会报错:"
   ]
  },
  {
   "cell_type": "code",
   "execution_count": 12,
   "id": "df4b6b04-41ea-4048-be92-3e1b8ca78807",
   "metadata": {},
   "outputs": [
    {
     "name": "stdout",
     "output_type": "stream",
     "text": [
      "小布什\n",
      "===+===小===+===布===+===石===+===\n"
     ]
    },
    {
     "ename": "TypeError",
     "evalue": "__init__() missing 1 required positional argument: 'name'",
     "output_type": "error",
     "traceback": [
      "\u001b[1;31m---------------------------------------------------------------------------\u001b[0m",
      "\u001b[1;31mTypeError\u001b[0m                                 Traceback (most recent call last)",
      "\u001b[1;32m~\\AppData\\Local\\Temp\\ipykernel_10164\\3331606907.py\u001b[0m in \u001b[0;36m<module>\u001b[1;34m\u001b[0m\n\u001b[0;32m      8\u001b[0m \u001b[0mBushi_true\u001b[0m \u001b[1;33m=\u001b[0m \u001b[0mPerson\u001b[0m\u001b[1;33m(\u001b[0m\u001b[1;34m'小布什'\u001b[0m\u001b[1;33m)\u001b[0m\u001b[1;33m\u001b[0m\u001b[1;33m\u001b[0m\u001b[0m\n\u001b[0;32m      9\u001b[0m \u001b[0mprint\u001b[0m\u001b[1;33m(\u001b[0m\u001b[1;34m\"===+===小===+===布===+===石===+===\"\u001b[0m\u001b[1;33m)\u001b[0m\u001b[1;33m\u001b[0m\u001b[1;33m\u001b[0m\u001b[0m\n\u001b[1;32m---> 10\u001b[1;33m \u001b[0mBushi_false\u001b[0m \u001b[1;33m=\u001b[0m \u001b[0mPerson\u001b[0m\u001b[1;33m(\u001b[0m\u001b[1;33m)\u001b[0m\u001b[1;33m\u001b[0m\u001b[1;33m\u001b[0m\u001b[0m\n\u001b[0m",
      "\u001b[1;31mTypeError\u001b[0m: __init__() missing 1 required positional argument: 'name'"
     ]
    }
   ],
   "source": [
    "class Person():\n",
    "     def __init__(self,name):\n",
    "         print(\"小布什\")\n",
    "         self.name = name\n",
    "     def eat(self):\n",
    "         print(\"钢铁手腕\")\n",
    "\n",
    "Bushi_true = Person('小布什')   \n",
    "print(\"===+===小===+===布===+===石===+===\")\n",
    "Bushi_false = Person()"
   ]
  },
  {
   "cell_type": "markdown",
   "id": "06d83609-f5ff-43b4-a1a2-486052e44057",
   "metadata": {},
   "source": [
    "我们其实就比较清晰的知道什么东西需要在`__ init__ ()`方法中定义了，就是希望有一些操作是在创建实例的时候就有,\n",
    "\n",
    "我们写神经网络的代码的时候，一些网络结构的设置，也最好放在`__ init__ ()`方法中。"
   ]
  },
  {
   "cell_type": "markdown",
   "id": "aa18c3fb-4c28-4d30-9094-27a92949610b",
   "metadata": {},
   "source": [
    "# super(Net, self).init()\n",
    "`python`中的`super(Net, self).init()`是指首先找到`Net`的父类（比如是类`NNet`），然后把类`Net`的对象`self`转换为类`NNet`的对象，然后“被转换”的类`NNet`对象调用自己的`init`函数，\n",
    "\n",
    "其实简单理解就是子类把父类的`__init__()`放到自己的`__init__()`当中，这样子类就有了父类的`__init__()`的那些东西。\n",
    "\n",
    "`Net`类继承`nn.Module`，`super(Net, self).init()`就是对继承自父类`nn.Module`的属性进行初始化。\n",
    "\n",
    "而且是用`nn.Module`的初始化方法来初始化继承的属性。"
   ]
  },
  {
   "cell_type": "code",
   "execution_count": null,
   "id": "d92f779d-176b-48c6-9773-ac6a1a7fbc85",
   "metadata": {},
   "outputs": [],
   "source": [
    "class Net(nn.Module):\n",
    "    def __init__(self):\n",
    "        super(Net, self).__init__()\n",
    "        # 输入图像channel：1；输出channel：6；5x5卷积核\n",
    "        self.conv1 = nn.Conv2d(1, 6, 5)"
   ]
  },
  {
   "cell_type": "markdown",
   "id": "84c15f83-d188-443f-bbee-932b26ac9483",
   "metadata": {},
   "source": [
    "也就是说，子类继承了父类的所有属性和方法，父类属性自然会用父类方法来进行初始化。\n",
    "当然，如果初始化的逻辑与父类的不同，不使用父类的方法，自己重新初始化也是可以的。比如："
   ]
  },
  {
   "cell_type": "code",
   "execution_count": 15,
   "id": "219527e9-c66f-4b28-8793-6cedfcc39328",
   "metadata": {},
   "outputs": [
    {
     "name": "stdout",
     "output_type": "stream",
     "text": [
      "Postgraduate\n",
      "小布石\n"
     ]
    },
    {
     "ename": "AttributeError",
     "evalue": "'Student' object has no attribute 'age'",
     "output_type": "error",
     "traceback": [
      "\u001b[1;31m---------------------------------------------------------------------------\u001b[0m",
      "\u001b[1;31mAttributeError\u001b[0m                            Traceback (most recent call last)",
      "\u001b[1;32m~\\AppData\\Local\\Temp\\ipykernel_10164\\3129696494.py\u001b[0m in \u001b[0;36m<module>\u001b[1;34m\u001b[0m\n\u001b[0;32m     19\u001b[0m \u001b[0mprint\u001b[0m\u001b[1;33m(\u001b[0m\u001b[0ms\u001b[0m\u001b[1;33m.\u001b[0m\u001b[0mschool\u001b[0m\u001b[1;33m)\u001b[0m\u001b[1;33m\u001b[0m\u001b[1;33m\u001b[0m\u001b[0m\n\u001b[0;32m     20\u001b[0m \u001b[0mprint\u001b[0m\u001b[1;33m(\u001b[0m\u001b[0ms\u001b[0m\u001b[1;33m.\u001b[0m\u001b[0mname\u001b[0m\u001b[1;33m)\u001b[0m\u001b[1;33m\u001b[0m\u001b[1;33m\u001b[0m\u001b[0m\n\u001b[1;32m---> 21\u001b[1;33m \u001b[0mprint\u001b[0m\u001b[1;33m(\u001b[0m\u001b[0ms\u001b[0m\u001b[1;33m.\u001b[0m\u001b[0mage\u001b[0m\u001b[1;33m)\u001b[0m \u001b[1;31m#报错，因为没有初始化\u001b[0m\u001b[1;33m\u001b[0m\u001b[1;33m\u001b[0m\u001b[0m\n\u001b[0m",
      "\u001b[1;31mAttributeError\u001b[0m: 'Student' object has no attribute 'age'"
     ]
    }
   ],
   "source": [
    "#!/usr/bin/env python\n",
    "# -*- coding:utf-8 -*-\n",
    " \n",
    "class Person(object):\n",
    "    def __init__(self,name,gender,age):\n",
    "        self.name = name\n",
    "        self.gender = gender\n",
    "        self.age = age\n",
    " \n",
    "class Student(Person):\n",
    "    def __init__(self,name,gender,age,school,score):\n",
    "        #super(Student,self).__init__(name,gender,age)\n",
    "        self.name = name.upper()  \n",
    "        self.gender = gender.upper()\n",
    "        self.school = school\n",
    "        self.score = score\n",
    " \n",
    "s = Student('小布石','female',25,'Postgraduate',100)\n",
    "print(s.school)\n",
    "print(s.name)\n",
    "print(s.age) #报错，因为没有初始化"
   ]
  },
  {
   "cell_type": "markdown",
   "id": "b4e91881-eb99-4da7-872b-e1f84d52983c",
   "metadata": {},
   "source": [
    "# super的具体用法"
   ]
  },
  {
   "cell_type": "code",
   "execution_count": 28,
   "id": "e4bf05bf-243b-4886-a181-4adb6450159f",
   "metadata": {},
   "outputs": [
    {
     "name": "stdout",
     "output_type": "stream",
     "text": [
      "Base init\n",
      "Medium2 init\n",
      "Medium1 init\n",
      "Leaf init\n"
     ]
    },
    {
     "data": {
      "text/plain": [
       "[__main__.Leaf, __main__.Medium1, __main__.Medium2, __main__.Base, object]"
      ]
     },
     "execution_count": 28,
     "metadata": {},
     "output_type": "execute_result"
    }
   ],
   "source": [
    "class Base(object):\n",
    "       def __init__(self):\n",
    "              print(\"Base init\")\n",
    " \n",
    "class Medium1(Base):\n",
    "       def __init__(self):\n",
    "              super(Medium1, self).__init__()\n",
    "              print(\"Medium1 init\")\n",
    " \n",
    "class Medium2(Base):\n",
    "       def __init__(self):\n",
    "              super(Medium2, self).__init__()\n",
    "              print(\"Medium2 init\")\n",
    " \n",
    "class Leaf(Medium1, Medium2):\n",
    "       def __init__(self):\n",
    "              super(Leaf, self).__init__()\n",
    "              print(\"Leaf init\")        \n",
    "leaf  =Leaf()\n",
    "Leaf.mro()"
   ]
  },
  {
   "cell_type": "markdown",
   "id": "eb85f9d4-0438-4ee0-af53-cfc182f4dc7e",
   "metadata": {},
   "source": [
    "# super的内核：mro\n",
    "要理解`super`的原理，就要先了解`mro`。`mro`是`method resolution order`的缩写，表示了类继承体系中的成员解析顺序。\n",
    "\n",
    "在`python`中，每个类都有一个`mro`的类方法。我们来看一下钻石继承中，`Leaf`类的`mro`是什么样子的：\n",
    "```python\n",
    "\n",
    ">>> Leaf.mro()\n",
    "\n",
    "[__main__.Leaf, __main__.Medium1, __main__.Medium2, __main__.Base, object]\n",
    "```\n",
    "\n",
    "可以看到`mro`方法返回的是一个祖先类的列表。`Leaf`的每个祖先都在其中出现一次，这也是`super`在父类中查找成员的顺序。 \n",
    "\n",
    "通过`mro`，`python`巧妙地将多继承的图结构，转变为`list`的顺序结构。`super`在继承体系中向上的查找过程，变成了在`mro`中向右的线性查找过程，任何类都只会被处理一次。\n",
    "\n",
    "通过这个方法，`python`解决了多继承中的2大难题：\n",
    "\n",
    "1. 查找顺序问题。从`Leaf`的`mro`顺序可以看出，如果`Leaf`类通过`super`来访问父类成员，那么`Medium1`的成员会在`Medium2`之前被首先访问到。\n",
    "\n",
    "    如果`Medium1`和`Medium2`都没有找到，最后再到`Base`中查找。\n",
    "\n",
    "2. 钻石继承的多次初始化问题。在`mro`的`list`中，`Base`类只出现了一次。事实上任何类都只会在`mro list`中出现一次。\n",
    "\n",
    "    这就确保了`super`向上调用的过程中，任何祖先类的方法都只会被执行一次。\n",
    "\n",
    " "
   ]
  },
  {
   "cell_type": "markdown",
   "id": "381c12d6-7094-4660-80ad-62091bfd45ca",
   "metadata": {},
   "source": [
    "`super(Leaf, self).__init__()`的意思是说：\n",
    "+ 获取`self`所属类的`mro`, 也就是`[Leaf, Medium1, Medium2, Base]`.\n",
    "+ 从`mro`中`Leaf`右边的一个类开始，依次寻找`__init__`函数。这里是从`Medium1`开始寻找.\n",
    "+ 一旦找到，就把找到的`__init__`函数绑定到`self`对象，并返回."
   ]
  },
  {
   "cell_type": "markdown",
   "id": "b19df5ca-4c38-4a1a-befd-bada366e7ec4",
   "metadata": {},
   "source": [
    "从这个执行流程可以看到，如果我们不想调用`Medium1`的`__init__`，而想要调用`Medium2`的`__init__`，那么`super`应该写成：`super(Medium1, self)__init__()`"
   ]
  },
  {
   "cell_type": "code",
   "execution_count": 30,
   "id": "fa7a3b73-aeb2-4634-a5b3-edac6a6cc104",
   "metadata": {},
   "outputs": [],
   "source": [
    "class Leaf(Medium1, Medium2):\n",
    "    def __new__(cls):\n",
    "        obj = super(Leaf, cls).__new__(cls)\n",
    "        print(\"Leaf new\")\n",
    "        return obj"
   ]
  },
  {
   "cell_type": "markdown",
   "id": "ddc53414-c164-448b-98ce-ec534f55f913",
   "metadata": {},
   "source": [
    "`super(Leaf, cls).__new__(cls)`的意思是说：\n",
    "\n",
    "+ 获取`cls`这个类的`mro`，这里也是`[Leaf, Medium1, Medium2, Base]`\n",
    "+ 从`mro`中`Leaf`右边的一个类开始，依次寻找`__new__`函数\n",
    "+ 一旦找到，就返回“非绑定”的`__new__`函数"
   ]
  },
  {
   "cell_type": "markdown",
   "id": "d2586fce-5c13-4c44-a233-157c0e3d0e83",
   "metadata": {},
   "source": [
    "由于返回的是非绑定的函数对象，因此调用时不能省略函数的第一个参数。这也是这里调用`__new__`时，需要传入参数`cls`的原因\n",
    "\n",
    "同样的，如果我们想从某个`mro`的某个位置开始查找，只需要修改`super`的第一个参数就行"
   ]
  },
  {
   "cell_type": "code",
   "execution_count": null,
   "id": "11f27eda-679a-4386-9918-993ca13a3c87",
   "metadata": {},
   "outputs": [],
   "source": []
  }
 ],
 "metadata": {
  "kernelspec": {
   "display_name": "zbs",
   "language": "python",
   "name": "zbs"
  },
  "language_info": {
   "codemirror_mode": {
    "name": "ipython",
    "version": 3
   },
   "file_extension": ".py",
   "mimetype": "text/x-python",
   "name": "python",
   "nbconvert_exporter": "python",
   "pygments_lexer": "ipython3",
   "version": "3.7.15"
  }
 },
 "nbformat": 4,
 "nbformat_minor": 5
}
