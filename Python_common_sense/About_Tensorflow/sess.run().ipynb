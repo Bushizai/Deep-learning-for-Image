{
 "cells": [
  {
   "cell_type": "code",
   "execution_count": 1,
   "id": "9c24b280-1bfe-4cd0-93cf-fee730ad488a",
   "metadata": {},
   "outputs": [
    {
     "name": "stdout",
     "output_type": "stream",
     "text": [
      "3\n"
     ]
    }
   ],
   "source": [
    "import tensorflow as tf \n",
    "\n",
    "ref_a = tf.Variable(tf.constant(1))\n",
    "ref_b = tf.Variable(tf.constant(2))\n",
    "update = tf.assign(ref_a, 10)\n",
    "ref_sum = tf.add(ref_a, ref_b)\n",
    "\n",
    "with tf.Session() as sess:\n",
    "    sess.run(tf.global_variables_initializer())\n",
    "    print(sess.run(ref_sum))"
   ]
  },
  {
   "cell_type": "markdown",
   "id": "66f1329b-8945-4bc5-8525-2b9a6cdc5191",
   "metadata": {},
   "source": [
    "然后你就会感到奇怪，这里与往常的直觉不一样，理论上ref_a应该已经被修改为10了？带着疑问，我们看第二个例子"
   ]
  },
  {
   "cell_type": "code",
   "execution_count": 6,
   "id": "02c06303-8962-481e-ba5f-760d49dd0079",
   "metadata": {},
   "outputs": [
    {
     "name": "stdout",
     "output_type": "stream",
     "text": [
      "12\n",
      "12\n",
      "12\n",
      "12\n",
      "12\n",
      "12\n"
     ]
    }
   ],
   "source": [
    "ref_a = tf.Variable(tf.constant(1))\n",
    "ref_b = tf.Variable(tf.constant(2))\n",
    "update = tf.assign(ref_a, 10)\n",
    "ref_sum = tf.add(ref_a, ref_b)\n",
    "\n",
    "iteration = 6  # 训练的迭代次数\n",
    "for i in range(0,6):  \n",
    "    with tf.Session() as sess:\n",
    "        sess.run(tf.global_variables_initializer())\n",
    "        sess.run(update)  # 唯一修改的地方\n",
    "        print(sess.run(ref_sum))"
   ]
  },
  {
   "cell_type": "markdown",
   "id": "0a63b1db-25e6-4a02-9dae-97fd93b6c30c",
   "metadata": {},
   "source": [
    "看到这里，是不是大家就明白了。所谓的赋值被完成其实指得是需要对tf.assign()函数的返回值执行一下sess.run()操作后，才能保证正常更新。\n",
    "\n",
    "在明白了这个易错的地方后，我再介绍两种方法，来达到同样的目的。\n",
    "\n",
    "<font color=red>**方法一：**</font> <font color=blue>采用ref_a = tf.assign(ref_a, 10)操作，我们看一下代码和运行结果</font>"
   ]
  },
  {
   "cell_type": "code",
   "execution_count": 3,
   "id": "5e591f2b-e821-4d4a-bf17-f2b4e1a772f4",
   "metadata": {},
   "outputs": [
    {
     "name": "stdout",
     "output_type": "stream",
     "text": [
      "12\n"
     ]
    }
   ],
   "source": [
    "import tensorflow as tf \n",
    "\n",
    "ref_a = tf.Variable(tf.constant(1))\n",
    "ref_b = tf.Variable(tf.constant(2))\n",
    "ref_a = tf.assign(ref_a, 10)\n",
    "ref_sum = tf.add(ref_a, ref_b)\n",
    "\n",
    "with tf.Session() as sess:\n",
    "    sess.run(tf.global_variables_initializer())\n",
    "    print(sess.run(ref_sum))"
   ]
  },
  {
   "cell_type": "markdown",
   "id": "00cba786-5890-4ce9-b2d3-56146bc90a72",
   "metadata": {},
   "source": [
    "<font color=red>**方法二：**</font><font color=blue>使用tf.control_dependencies()函数，我们也同样来看一下代码和结果</font>"
   ]
  },
  {
   "cell_type": "code",
   "execution_count": 4,
   "id": "1d575ce6-4187-469a-9883-d642ec3ddb74",
   "metadata": {},
   "outputs": [
    {
     "name": "stdout",
     "output_type": "stream",
     "text": [
      "12\n"
     ]
    }
   ],
   "source": [
    "import tensorflow as tf \n",
    "\n",
    "ref_a = tf.Variable(tf.constant(1))\n",
    "ref_b = tf.Variable(tf.constant(2))\n",
    "update = tf.assign(ref_a, 10)\n",
    "\n",
    "with tf.control_dependencies([update]):\n",
    "    ref_sum = tf.add(ref_a, ref_b)\n",
    "\n",
    "with tf.Session() as sess:\n",
    "    sess.run(tf.global_variables_initializer())\n",
    "    print(sess.run(ref_sum))"
   ]
  },
  {
   "cell_type": "code",
   "execution_count": null,
   "id": "5d42fd6d-b518-43be-9031-4dd335039b4d",
   "metadata": {},
   "outputs": [],
   "source": []
  }
 ],
 "metadata": {
  "kernelspec": {
   "display_name": "tf1",
   "language": "python",
   "name": "tf1"
  },
  "language_info": {
   "codemirror_mode": {
    "name": "ipython",
    "version": 3
   },
   "file_extension": ".py",
   "mimetype": "text/x-python",
   "name": "python",
   "nbconvert_exporter": "python",
   "pygments_lexer": "ipython3",
   "version": "3.6.2"
  }
 },
 "nbformat": 4,
 "nbformat_minor": 5
}
