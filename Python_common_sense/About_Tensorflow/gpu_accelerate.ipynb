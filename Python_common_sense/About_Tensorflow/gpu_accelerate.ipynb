{
 "cells": [
  {
   "cell_type": "code",
   "execution_count": 1,
   "id": "c40cccc8-f46d-40a8-a823-bcc9c9c0536c",
   "metadata": {},
   "outputs": [],
   "source": [
    "import tensorflow as tf\n",
    "import timeit"
   ]
  },
  {
   "cell_type": "code",
   "execution_count": 2,
   "id": "eb4eef37-ee91-4b14-b7db-530c2cdbdbf6",
   "metadata": {},
   "outputs": [
    {
     "name": "stdout",
     "output_type": "stream",
     "text": [
      "/job:localhost/replica:0/task:0/device:CPU:0 /job:localhost/replica:0/task:0/device:CPU:0\n",
      "/job:localhost/replica:0/task:0/device:GPU:0 /job:localhost/replica:0/task:0/device:GPU:0\n"
     ]
    }
   ],
   "source": [
    "# 这个方法会减少显存的负担，但是从内存把数据传输到显存中是非常慢的，这样做常常会减慢速度\n",
    "with tf.device('/cpu:0'):\n",
    "    cpu_a = tf.random.normal([10000, 1000])\n",
    "    cpu_b = tf.random.normal([1000,2000])\n",
    "    print(cpu_a.device, cpu_b.device)\n",
    "    \n",
    "with tf.device('/gpu:0'):\n",
    "    gpu_a = tf.random.normal([10000, 1000])\n",
    "    gpu_b = tf.random.normal([1000,2000])\n",
    "    print(gpu_a.device, gpu_b.device)\n",
    "\n",
    "def cpu_run():\n",
    "    with tf.device('/cpu:0'):\n",
    "        c = tf.matmul(cpu_a, cpu_b)\n",
    "    return c\n",
    "\n",
    "def gpu_run():\n",
    "    with tf.device('/gpu:0'):\n",
    "        c = tf.matmul(gpu_a, gpu_b)\n",
    "    return c\n"
   ]
  },
  {
   "cell_type": "code",
   "execution_count": 5,
   "id": "d2e5e16d-8eb8-4db7-a6da-d749b834ebb4",
   "metadata": {},
   "outputs": [
    {
     "name": "stdout",
     "output_type": "stream",
     "text": [
      "warmup: 0.7874266999999691 0.001418199999989156\n",
      "run time: 0.7648017999999865 0.0013730000000578002\n"
     ]
    }
   ],
   "source": [
    "# warm up(因为刚开始使用GPU时，GPU会有个初始化操作，所以为了出去初始化操作的影响，需要热身 )\n",
    "cpu_time = timeit.timeit(cpu_run, number=10)\n",
    "gpu_time = timeit.timeit(gpu_run, number=10)\n",
    "print('warmup:',cpu_time, gpu_time)\n",
    "\n",
    "cpu_time = timeit.timeit(cpu_run, number=10)\n",
    "gpu_time = timeit.timeit(gpu_run, number=10)\n",
    "print('run time:',cpu_time, gpu_time)"
   ]
  },
  {
   "cell_type": "code",
   "execution_count": null,
   "id": "6137d05b-0cc3-46c2-be23-2c9d7284e30c",
   "metadata": {},
   "outputs": [],
   "source": []
  }
 ],
 "metadata": {
  "kernelspec": {
   "display_name": "Python [conda env:convnext]",
   "language": "python",
   "name": "conda-env-convnext-py"
  },
  "language_info": {
   "codemirror_mode": {
    "name": "ipython",
    "version": 3
   },
   "file_extension": ".py",
   "mimetype": "text/x-python",
   "name": "python",
   "nbconvert_exporter": "python",
   "pygments_lexer": "ipython3",
   "version": "3.8.13"
  }
 },
 "nbformat": 4,
 "nbformat_minor": 5
}
