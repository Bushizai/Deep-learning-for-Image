{
 "cells": [
  {
   "cell_type": "code",
   "execution_count": 1,
   "id": "2b9f3262-3b70-4d33-ae81-8c58bd5e3cf7",
   "metadata": {},
   "outputs": [],
   "source": [
    "import os\n",
    "import tensorflow as tf\n",
    "from tensorflow import keras\n",
    "from tensorflow.keras import layers, optimizers, datasets"
   ]
  },
  {
   "cell_type": "markdown",
   "id": "d87906d7-8011-4ee4-aa0a-1deeddbe1f31",
   "metadata": {},
   "source": [
    "tf框架： os.environ[“TF_CPP_MIN_LOG_LEVEL”]的取值有4个：0，1，2，3，分别和log的四个等级挂钩：INFO，WARNING，ERROR，FATAL （重要性由左到右递增）\n",
    "\n",
    "    1、当os.environ[\"TF_CPP_MIN_LOG_LEVEL\"]=0的时候，输出信息：INFO + WARNING + ERROR + FATAL\n",
    "    2、当os.environ[\"TF_CPP_MIN_LOG_LEVEL\"]=1的时候，输出信息：WARNING + ERROR + FATAL\n",
    "    3、当os.environ[\"TF_CPP_MIN_LOG_LEVEL\"]=2的时候，输出信息：ERROR + FATAL\n",
    "    4、当os.environ[\"TF_CPP_MIN_LOG_LEVEL\"]=3的时候，输出信息：FATAL\n"
   ]
  },
  {
   "cell_type": "code",
   "execution_count": 2,
   "id": "3eb2e246-3e7c-451a-8f02-f5e1b9741224",
   "metadata": {},
   "outputs": [],
   "source": [
    "os.environ['TF_CPP_MIN_LOG_LEVEL'] = '2'"
   ]
  },
  {
   "cell_type": "code",
   "execution_count": 3,
   "id": "0d76f0cc-7d9f-4bbb-87cc-de5603311fc1",
   "metadata": {},
   "outputs": [
    {
     "name": "stdout",
     "output_type": "stream",
     "text": [
      "(60000, 28, 28) (60000, 10)\n"
     ]
    }
   ],
   "source": [
    "(x, y), (x_val, y_val) = datasets.mnist.load_data()    # 获取的是numpy的类型\n",
    "x = tf.convert_to_tensor(x, dtype = tf.float32) / 255\n",
    "y = tf.convert_to_tensor(y, dtype=tf.int32)\n",
    "y = tf.one_hot(y, depth=10)   # nums_class = 10\n",
    "print(x.shape, y.shape)\n",
    "\n",
    "train_dataset = tf.data.Dataset.from_tensor_slices((x,y))\n",
    "train_dataset = train_dataset.batch(300)\n"
   ]
  },
  {
   "cell_type": "code",
   "execution_count": 4,
   "id": "84557b90-24a9-4c0a-b59a-0134ef807c35",
   "metadata": {},
   "outputs": [
    {
     "data": {
      "text/plain": [
       "<BatchDataset shapes: ((None, 28, 28), (None, 10)), types: (tf.float32, tf.float32)>"
      ]
     },
     "execution_count": 4,
     "metadata": {},
     "output_type": "execute_result"
    }
   ],
   "source": [
    "train_dataset"
   ]
  },
  {
   "cell_type": "code",
   "execution_count": 5,
   "id": "569f0199-0326-4519-a2f4-d014904e2c66",
   "metadata": {},
   "outputs": [],
   "source": [
    "# 模型搭建\n",
    "model = keras.Sequential([\n",
    "    layers.Dense(512, activation='relu'),\n",
    "    layers.Dense(256, activation='relu'),\n",
    "    layers.Dense(10)])"
   ]
  },
  {
   "cell_type": "code",
   "execution_count": 6,
   "id": "110cf032-313c-493c-997b-ce58e6caa6ca",
   "metadata": {},
   "outputs": [],
   "source": [
    "optimizer = optimizers.SGD(learning_rate=0.001)"
   ]
  },
  {
   "cell_type": "code",
   "execution_count": 10,
   "id": "d80b4816-b7ee-47b5-87c3-f4b5a9cde3c4",
   "metadata": {},
   "outputs": [],
   "source": [
    "def train_epoch(epoch):\n",
    "    for step, (x,y) in enumerate(train_dataset):\n",
    "        if step == 0:\n",
    "            print('flatten之前，x.shape=',format(x.shape))\n",
    "        with tf.GradientTape() as tape:\n",
    "            # [B, w, h] => [B, W*h]\n",
    "            x = tf.reshape(x, (-1, 28*28))   \n",
    "            if step == 0:\n",
    "                print('flatten之后，x.shape=',format(x.shape))\n",
    "            # Step1. compute output\n",
    "            # [b, 784] => [b, 10]\n",
    "            out = model(x)\n",
    "            # Step2. compute loss\n",
    "            loss = tf.reduce_sum(tf.square(out - y)) / x.shape[0]\n",
    "            \n",
    "        # Step3. optimize and update w1, w2, w3, b1, b2, b3\n",
    "        grads = tape.gradient(loss, model.trainable_variables)\n",
    "        # w' = w - lr*grad\n",
    "        optimizer.apply_gradients(zip(grads, model.trainable_variables))\n",
    "        \n",
    "        if step % 100 == 0:\n",
    "            print(epoch, step, 'loss:', loss.numpy())"
   ]
  },
  {
   "cell_type": "code",
   "execution_count": 11,
   "id": "63c4438b-7f87-4718-8ce1-f1eeb850bf27",
   "metadata": {},
   "outputs": [],
   "source": [
    "def train():\n",
    "    for epoch in range(30):\n",
    "        train_epoch(epoch)"
   ]
  },
  {
   "cell_type": "code",
   "execution_count": 12,
   "id": "5654ea5d-b621-464f-b51b-7f9145adfb90",
   "metadata": {},
   "outputs": [
    {
     "name": "stdout",
     "output_type": "stream",
     "text": [
      "flatten之前，x.shape= (300, 28, 28)\n",
      "flatten之后，x.shape= (300, 784)\n",
      "0 0 loss: 0.27526328\n",
      "0 100 loss: 0.32578015\n",
      "flatten之前，x.shape= (300, 28, 28)\n",
      "flatten之后，x.shape= (300, 784)\n",
      "1 0 loss: 0.27233636\n",
      "1 100 loss: 0.32247895\n",
      "flatten之前，x.shape= (300, 28, 28)\n",
      "flatten之后，x.shape= (300, 784)\n",
      "2 0 loss: 0.2695532\n",
      "2 100 loss: 0.31930155\n",
      "flatten之前，x.shape= (300, 28, 28)\n",
      "flatten之后，x.shape= (300, 784)\n",
      "3 0 loss: 0.26689202\n",
      "3 100 loss: 0.316217\n",
      "flatten之前，x.shape= (300, 28, 28)\n",
      "flatten之后，x.shape= (300, 784)\n",
      "4 0 loss: 0.26434824\n",
      "4 100 loss: 0.31324106\n",
      "flatten之前，x.shape= (300, 28, 28)\n",
      "flatten之后，x.shape= (300, 784)\n",
      "5 0 loss: 0.26192296\n",
      "5 100 loss: 0.31038988\n",
      "flatten之前，x.shape= (300, 28, 28)\n",
      "flatten之后，x.shape= (300, 784)\n",
      "6 0 loss: 0.25959325\n",
      "6 100 loss: 0.3076372\n",
      "flatten之前，x.shape= (300, 28, 28)\n",
      "flatten之后，x.shape= (300, 784)\n",
      "7 0 loss: 0.25734377\n",
      "7 100 loss: 0.30496806\n",
      "flatten之前，x.shape= (300, 28, 28)\n",
      "flatten之后，x.shape= (300, 784)\n",
      "8 0 loss: 0.2551645\n",
      "8 100 loss: 0.30238178\n",
      "flatten之前，x.shape= (300, 28, 28)\n",
      "flatten之后，x.shape= (300, 784)\n",
      "9 0 loss: 0.25308424\n",
      "9 100 loss: 0.2998849\n",
      "flatten之前，x.shape= (300, 28, 28)\n",
      "flatten之后，x.shape= (300, 784)\n",
      "10 0 loss: 0.2510791\n",
      "10 100 loss: 0.2974755\n",
      "flatten之前，x.shape= (300, 28, 28)\n",
      "flatten之后，x.shape= (300, 784)\n",
      "11 0 loss: 0.24912964\n",
      "11 100 loss: 0.2951354\n",
      "flatten之前，x.shape= (300, 28, 28)\n",
      "flatten之后，x.shape= (300, 784)\n",
      "12 0 loss: 0.24724492\n",
      "12 100 loss: 0.29287001\n",
      "flatten之前，x.shape= (300, 28, 28)\n",
      "flatten之后，x.shape= (300, 784)\n",
      "13 0 loss: 0.24541107\n",
      "13 100 loss: 0.29067767\n",
      "flatten之前，x.shape= (300, 28, 28)\n",
      "flatten之后，x.shape= (300, 784)\n",
      "14 0 loss: 0.24363531\n",
      "14 100 loss: 0.28854662\n",
      "flatten之前，x.shape= (300, 28, 28)\n",
      "flatten之后，x.shape= (300, 784)\n",
      "15 0 loss: 0.2419132\n",
      "15 100 loss: 0.28648758\n",
      "flatten之前，x.shape= (300, 28, 28)\n",
      "flatten之后，x.shape= (300, 784)\n",
      "16 0 loss: 0.2402507\n",
      "16 100 loss: 0.2844794\n",
      "flatten之前，x.shape= (300, 28, 28)\n",
      "flatten之后，x.shape= (300, 784)\n",
      "17 0 loss: 0.23863627\n",
      "17 100 loss: 0.28251237\n",
      "flatten之前，x.shape= (300, 28, 28)\n",
      "flatten之后，x.shape= (300, 784)\n",
      "18 0 loss: 0.23708217\n",
      "18 100 loss: 0.28060105\n",
      "flatten之前，x.shape= (300, 28, 28)\n",
      "flatten之后，x.shape= (300, 784)\n",
      "19 0 loss: 0.2355687\n",
      "19 100 loss: 0.2787545\n",
      "flatten之前，x.shape= (300, 28, 28)\n",
      "flatten之后，x.shape= (300, 784)\n",
      "20 0 loss: 0.23409317\n",
      "20 100 loss: 0.27695736\n",
      "flatten之前，x.shape= (300, 28, 28)\n",
      "flatten之后，x.shape= (300, 784)\n",
      "21 0 loss: 0.23265158\n",
      "21 100 loss: 0.27520517\n",
      "flatten之前，x.shape= (300, 28, 28)\n",
      "flatten之后，x.shape= (300, 784)\n",
      "22 0 loss: 0.23123698\n",
      "22 100 loss: 0.27349\n",
      "flatten之前，x.shape= (300, 28, 28)\n",
      "flatten之后，x.shape= (300, 784)\n",
      "23 0 loss: 0.2298588\n",
      "23 100 loss: 0.2718185\n",
      "flatten之前，x.shape= (300, 28, 28)\n",
      "flatten之后，x.shape= (300, 784)\n",
      "24 0 loss: 0.22851466\n",
      "24 100 loss: 0.27017868\n",
      "flatten之前，x.shape= (300, 28, 28)\n",
      "flatten之后，x.shape= (300, 784)\n",
      "25 0 loss: 0.2272114\n",
      "25 100 loss: 0.2685957\n",
      "flatten之前，x.shape= (300, 28, 28)\n",
      "flatten之后，x.shape= (300, 784)\n",
      "26 0 loss: 0.2259311\n",
      "26 100 loss: 0.26704818\n",
      "flatten之前，x.shape= (300, 28, 28)\n",
      "flatten之后，x.shape= (300, 784)\n",
      "27 0 loss: 0.22467422\n",
      "27 100 loss: 0.26551944\n",
      "flatten之前，x.shape= (300, 28, 28)\n",
      "flatten之后，x.shape= (300, 784)\n",
      "28 0 loss: 0.22344834\n",
      "28 100 loss: 0.2640396\n",
      "flatten之前，x.shape= (300, 28, 28)\n",
      "flatten之后，x.shape= (300, 784)\n",
      "29 0 loss: 0.22225128\n",
      "29 100 loss: 0.26258877\n"
     ]
    }
   ],
   "source": [
    "if __name__ == '__main__':\n",
    "    train()"
   ]
  },
  {
   "cell_type": "code",
   "execution_count": null,
   "id": "cd4f86f0-ea02-4c8a-871f-c5b8a44d1437",
   "metadata": {},
   "outputs": [],
   "source": []
  }
 ],
 "metadata": {
  "kernelspec": {
   "display_name": "Python [conda env:Anaconda3-py37]",
   "language": "python",
   "name": "conda-env-Anaconda3-py37-py"
  },
  "language_info": {
   "codemirror_mode": {
    "name": "ipython",
    "version": 3
   },
   "file_extension": ".py",
   "mimetype": "text/x-python",
   "name": "python",
   "nbconvert_exporter": "python",
   "pygments_lexer": "ipython3",
   "version": "3.7.11"
  }
 },
 "nbformat": 4,
 "nbformat_minor": 5
}
