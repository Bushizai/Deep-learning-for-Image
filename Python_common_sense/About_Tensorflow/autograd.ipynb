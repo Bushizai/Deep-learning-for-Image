{
 "cells": [
  {
   "cell_type": "code",
   "execution_count": 1,
   "id": "c32cd8cc-ac67-4f24-bc5f-7776b33be4b8",
   "metadata": {},
   "outputs": [],
   "source": [
    "import tensorflow as tf "
   ]
  },
  {
   "cell_type": "code",
   "execution_count": 2,
   "id": "12b7bd1a-ba09-46f6-a0dd-53e642a8d1f6",
   "metadata": {},
   "outputs": [],
   "source": [
    "x = tf.constant(1.)\n",
    "a = tf.constant(2.)\n",
    "b = tf.constant(3.)\n",
    "c = tf.constant(4.)"
   ]
  },
  {
   "cell_type": "code",
   "execution_count": 3,
   "id": "8de35028-259c-446f-8af8-e8d0214516e4",
   "metadata": {},
   "outputs": [],
   "source": [
    "with tf.GradientTape() as tape:\n",
    "    # with可用于简化try finally代码\n",
    "    # with expression as variable的执行过程是，首先执行__enter__函数\n",
    "    # 它的返回值会赋值给as后面的variable\n",
    "    # 然后执行with-block中的语句，不论发生什么with-block执行后都执行__exit__函数\n",
    "\n",
    "    tape.watch([a, b, c])\n",
    "    y = a**2*x + b*x +c"
   ]
  },
  {
   "cell_type": "code",
   "execution_count": 4,
   "id": "bd3a4f72-3f6b-4763-b7bc-8e58d80be76c",
   "metadata": {},
   "outputs": [
    {
     "name": "stdout",
     "output_type": "stream",
     "text": [
      "tf.Tensor(4.0, shape=(), dtype=float32) tf.Tensor(1.0, shape=(), dtype=float32) tf.Tensor(1.0, shape=(), dtype=float32)\n"
     ]
    }
   ],
   "source": [
    "# gradient函数根据tape上面的上下文来计算某个或者某些tensor的梯度\n",
    "[dy_da, dy_db, dy_dc] = tape.gradient(y, [a, b, c])\n",
    "print(dy_da, dy_db, dy_dc)"
   ]
  },
  {
   "cell_type": "code",
   "execution_count": null,
   "id": "11220e0b-945c-4b67-97c7-5ae180c744dd",
   "metadata": {},
   "outputs": [],
   "source": []
  }
 ],
 "metadata": {
  "kernelspec": {
   "display_name": "zbs",
   "language": "python",
   "name": "zbs"
  },
  "language_info": {
   "codemirror_mode": {
    "name": "ipython",
    "version": 3
   },
   "file_extension": ".py",
   "mimetype": "text/x-python",
   "name": "python",
   "nbconvert_exporter": "python",
   "pygments_lexer": "ipython3",
   "version": "3.7.15"
  }
 },
 "nbformat": 4,
 "nbformat_minor": 5
}
