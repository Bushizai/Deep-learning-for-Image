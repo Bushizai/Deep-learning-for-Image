{
 "cells": [
  {
   "cell_type": "code",
   "execution_count": 2,
   "id": "49d88ccd-6414-4041-8201-b31ba8818bb4",
   "metadata": {},
   "outputs": [],
   "source": [
    "import tensorflow as tf\n",
    "import numpy as np\n",
    "\n",
    "a = tf.constant([1.])\n",
    "b = tf.constant([True, False])\n",
    "c = tf.constant('hello world.')\n",
    "d = np.arange(4)"
   ]
  },
  {
   "cell_type": "code",
   "execution_count": 5,
   "id": "aeb9d826-1314-408d-8ff2-068f117c1356",
   "metadata": {},
   "outputs": [
    {
     "name": "stdout",
     "output_type": "stream",
     "text": [
      "a是否为tensor--> True\n",
      "b是否为tensor--> True\n",
      "d是否为tensor--> False\n"
     ]
    }
   ],
   "source": [
    "print(\"a是否为tensor-->\",format(isinstance(a, tf.Tensor)))\n",
    "print(\"b是否为tensor-->\",format(tf.is_tensor(b)))\n",
    "print('d是否为tensor-->',format(tf.is_tensor(d)))"
   ]
  },
  {
   "cell_type": "code",
   "execution_count": 6,
   "id": "2394c839-f42f-40cb-a4f1-c4ec7a9e66bd",
   "metadata": {},
   "outputs": [
    {
     "data": {
      "text/plain": [
       "(tf.float32, tf.bool, tf.string)"
      ]
     },
     "execution_count": 6,
     "metadata": {},
     "output_type": "execute_result"
    }
   ],
   "source": [
    "a.dtype, b.dtype, c.dtype"
   ]
  },
  {
   "cell_type": "code",
   "execution_count": 10,
   "id": "0454c72b-52c0-44b1-987b-b1adee898797",
   "metadata": {},
   "outputs": [
    {
     "data": {
      "text/plain": [
       "(True, False)"
      ]
     },
     "execution_count": 10,
     "metadata": {},
     "output_type": "execute_result"
    }
   ],
   "source": [
    "a.dtype == tf.float32 , b.dtype == tf.float32"
   ]
  },
  {
   "cell_type": "code",
   "execution_count": 11,
   "id": "4dcb255e-d400-485b-9bd1-6b7b53994f27",
   "metadata": {},
   "outputs": [
    {
     "data": {
      "text/plain": [
       "True"
      ]
     },
     "execution_count": 11,
     "metadata": {},
     "output_type": "execute_result"
    }
   ],
   "source": [
    "c.dtype == tf.string"
   ]
  },
  {
   "cell_type": "markdown",
   "id": "48c8d397-72e7-4c83-b86d-fd6aa6eb8b28",
   "metadata": {},
   "source": [
    "**类型的转化**"
   ]
  },
  {
   "cell_type": "code",
   "execution_count": 12,
   "id": "ede58362-7f26-4bd3-8bc9-5b5af818f9b8",
   "metadata": {},
   "outputs": [
    {
     "name": "stdout",
     "output_type": "stream",
     "text": [
      "a =  [0 1 2 3 4]\n",
      "a.dtype =  int32\n"
     ]
    }
   ],
   "source": [
    "a = np.arange(5)\n",
    "print(\"a = \",format(a))\n",
    "print(\"a.dtype = \",format(a.dtype))"
   ]
  },
  {
   "cell_type": "markdown",
   "id": "06947f41-4d7d-491f-a9b9-ed3a083656a1",
   "metadata": {},
   "source": [
    "**tf.Variable:赋予变量（可训练）**"
   ]
  },
  {
   "cell_type": "code",
   "execution_count": 14,
   "id": "c2b2fcbb-3588-4d9c-94ce-4e9ce487d525",
   "metadata": {},
   "outputs": [
    {
     "data": {
      "text/plain": [
       "<tf.Tensor: shape=(5,), dtype=int32, numpy=array([0, 1, 2, 3, 4])>"
      ]
     },
     "execution_count": 14,
     "metadata": {},
     "output_type": "execute_result"
    }
   ],
   "source": [
    "a = tf.range(5)\n",
    "a"
   ]
  },
  {
   "cell_type": "code",
   "execution_count": 16,
   "id": "1803770b-691a-4b62-9736-daadc2dc98bb",
   "metadata": {},
   "outputs": [
    {
     "name": "stdout",
     "output_type": "stream",
     "text": [
      "b.dtype--> <dtype: 'int32'>\n",
      "b.name--> Variable:0\n"
     ]
    }
   ],
   "source": [
    "# 把b变成可训练的变量\n",
    "b = tf.Variable(a)\n",
    "print(\"b.dtype-->\",format(b.dtype))\n",
    "print('b.name-->',format(b.name))"
   ]
  },
  {
   "cell_type": "code",
   "execution_count": 19,
   "id": "9d6feddb-0235-428b-a833-f97445da8942",
   "metadata": {},
   "outputs": [
    {
     "name": "stdout",
     "output_type": "stream",
     "text": [
      "b.name--> input_data:0\n",
      "b.trainable--> True\n"
     ]
    }
   ],
   "source": [
    "b = tf.Variable(a, name='input_data')\n",
    "print(\"b.name-->\",format(b.name))\n",
    "print(\"b.trainable-->\",format(b.trainable))"
   ]
  },
  {
   "cell_type": "code",
   "execution_count": 20,
   "id": "d67dbb4d-a61b-4080-bd8e-151a4af169cb",
   "metadata": {},
   "outputs": [
    {
     "name": "stdout",
     "output_type": "stream",
     "text": [
      "isinstance(b, tf.Tensor)--> False\n",
      "isinstance(b, tf.Variable)--> True\n"
     ]
    }
   ],
   "source": [
    "# 判断b是否是Tensor或是否为可训练参数\n",
    "print(\"isinstance(b, tf.Tensor)-->\",format(isinstance(b, tf.Tensor)))\n",
    "print(\"isinstance(b, tf.Variable)-->\",format(isinstance(b, tf.Variable)))"
   ]
  },
  {
   "cell_type": "code",
   "execution_count": 21,
   "id": "7d5d56c5-3c86-4ef6-a97d-803c8a37361e",
   "metadata": {},
   "outputs": [
    {
     "data": {
      "text/plain": [
       "<tf.Variable 'input_data:0' shape=(5,) dtype=int32, numpy=array([0, 1, 2, 3, 4])>"
      ]
     },
     "execution_count": 21,
     "metadata": {},
     "output_type": "execute_result"
    }
   ],
   "source": [
    "b.numpy()\n",
    "b"
   ]
  },
  {
   "cell_type": "markdown",
   "id": "00465249-9bf1-4576-84ab-910da77e305c",
   "metadata": {},
   "source": [
    "**To Numpy**"
   ]
  },
  {
   "cell_type": "code",
   "execution_count": 22,
   "id": "e176ba84-dd75-4ec2-aca8-9374fe322c42",
   "metadata": {},
   "outputs": [
    {
     "data": {
      "text/plain": [
       "array([0, 1, 2, 3, 4])"
      ]
     },
     "execution_count": 22,
     "metadata": {},
     "output_type": "execute_result"
    }
   ],
   "source": [
    "a.numpy()"
   ]
  },
  {
   "cell_type": "code",
   "execution_count": null,
   "id": "472b0a63-c037-4800-a66e-292ca677ecff",
   "metadata": {},
   "outputs": [],
   "source": []
  }
 ],
 "metadata": {
  "kernelspec": {
   "display_name": "Python [conda env:convNext]",
   "language": "python",
   "name": "conda-env-convNext-py"
  },
  "language_info": {
   "codemirror_mode": {
    "name": "ipython",
    "version": 3
   },
   "file_extension": ".py",
   "mimetype": "text/x-python",
   "name": "python",
   "nbconvert_exporter": "python",
   "pygments_lexer": "ipython3",
   "version": "3.8.13"
  }
 },
 "nbformat": 4,
 "nbformat_minor": 5
}
