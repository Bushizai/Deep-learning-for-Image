{
 "cells": [
  {
   "cell_type": "code",
   "execution_count": 1,
   "id": "65037934-a57a-4274-a0a7-46b3a40c3ea4",
   "metadata": {},
   "outputs": [],
   "source": [
    "import os"
   ]
  },
  {
   "cell_type": "markdown",
   "id": "accb8497-d33f-4f5f-916d-29a233eeda54",
   "metadata": {},
   "source": [
    "常用的几个os函数：\n",
    "\n",
    "1，os.getcwd()   获得当前运行程序的工作路径\n",
    "\n",
    "2，os. chdir(‘目标目录’)  切换到目标目录\n",
    "\n",
    "3，os.listdir(‘字符串目录’)     列出字符串目录下的所有文件\n",
    "\n",
    "4，os.mkdir('目录')   创建目录\n",
    "\n",
    "5，os.remove('1.txt')       删除文件，文件不存在时会报错\n",
    "\n",
    "6，os.linesep      打印操作系统的分隔符，linux系统的分隔符\\n，windows系统的分隔符\\r\\n，mac系统的分隔符\\r\n",
    "\n",
    "7，os.path.join(os.getcwd(),'aaa', ‘bbb’, ‘ccc’)   拼接出来多级目录：E:\\test\\aaa\\bbb\\ccc\n",
    "\n",
    "8，os.path.exists(‘目录’)  判断目录是否存在\n",
    "\n",
    "9，os.path.split(‘文件或者目录’)  把最后的一个目录或者文件和前面的目录分开，返回一个tuple\n",
    "\n",
    "10，os.path.splitext(‘文件’)    把文件的后缀名和前面分开，返回一个tuple"
   ]
  },
  {
   "cell_type": "code",
   "execution_count": 15,
   "id": "ab473289-863d-45ec-adc1-8cded4176712",
   "metadata": {},
   "outputs": [
    {
     "name": "stdout",
     "output_type": "stream",
     "text": [
      "获得当前运行程序的工作路径为:E:\\Deep_learning\\My_code\n"
     ]
    }
   ],
   "source": [
    "now_path = os.getcwd()\n",
    "print(\"获得当前运行程序的工作路径为:{}\".format(now_path))"
   ]
  },
  {
   "cell_type": "code",
   "execution_count": 21,
   "id": "60f15d4e-5cb7-407a-bfa3-46ba9cf313c1",
   "metadata": {},
   "outputs": [
    {
     "name": "stdout",
     "output_type": "stream",
     "text": [
      "获得指定目录的内容:['.ipynb_checkpoints', 'autograd.ipynb', 'dtype.ipynb', 'dtype_Nump.ipynb', 'gpu_accelerate.ipynb', 'Mnist_main.ipynb', 'OS.ipynb', 'sess.run().ipynb']\n"
     ]
    }
   ],
   "source": [
    "print(\"获得指定目录的内容:{}\".format(os.listdir(now_path)))"
   ]
  },
  {
   "cell_type": "code",
   "execution_count": 19,
   "id": "fe8a3f5d-7814-4bbc-a110-49a0fdecdf6f",
   "metadata": {},
   "outputs": [
    {
     "name": "stdout",
     "output_type": "stream",
     "text": [
      "获得当前运行程序路径的上两级目录：E:\\\n"
     ]
    }
   ],
   "source": [
    "# os.path.abspath():获得绝对路径\n",
    "data_root_2 = os.path.abspath(os.path.join(os.getcwd(), \"../..\"))\n",
    "print(\"获得当前运行程序路径的上两级目录：{}\".format(data_root_2))"
   ]
  },
  {
   "cell_type": "code",
   "execution_count": 20,
   "id": "9da6dee2-8dfc-4c37-a330-ca682c7506ae",
   "metadata": {},
   "outputs": [
    {
     "name": "stdout",
     "output_type": "stream",
     "text": [
      "获得当前运行程序路径的上两级目录：E:\\Deep_learning\n"
     ]
    }
   ],
   "source": [
    "data_root_1 = os.path.abspath(os.path.join(os.getcwd(), \"..\"))\n",
    "print(\"获得当前运行程序路径的上一级目录：{}\".format(data_root_1))"
   ]
  },
  {
   "cell_type": "code",
   "execution_count": 41,
   "id": "852892fb-b041-4f30-a2ca-c0e831373937",
   "metadata": {},
   "outputs": [
    {
     "name": "stdout",
     "output_type": "stream",
     "text": [
      "E:\\Deep_learning\n"
     ]
    }
   ],
   "source": [
    "# os.path.dirname(path)\n",
    "file_path = os.path.dirname(\"E:\\Deep_learning\\My_code\\autograd.ipynb\")\n",
    "print(file_path)"
   ]
  },
  {
   "cell_type": "code",
   "execution_count": 22,
   "id": "a7b7f1dc-d7ad-4ce8-b643-a83ea042f49b",
   "metadata": {},
   "outputs": [
    {
     "name": "stdout",
     "output_type": "stream",
     "text": [
      "判断当前文件夹是存在:True\n"
     ]
    }
   ],
   "source": [
    "judge_path_if_exist = os.path.exists('E:\\Deep_learning\\My_code')\n",
    "print(\"判断当前文件夹路径是否存在:{}\".format(judge_path_if_exist))"
   ]
  },
  {
   "cell_type": "code",
   "execution_count": 29,
   "id": "359cd371-ba31-4e8d-821b-5cb5b1bc57e3",
   "metadata": {},
   "outputs": [
    {
     "name": "stdout",
     "output_type": "stream",
     "text": [
      "判断当前文件是否存在:True\n"
     ]
    }
   ],
   "source": [
    "# 判断指定对象是否为文件。是返回True,否则False\n",
    "judge_path_if_file = os.path.isfile('E:\\Deep_learning\\My_code\\dtype_Nump.ipynb')\n",
    "print(\"判断当前文件是否存在:{}\".format(judge_path_if_exist))"
   ]
  },
  {
   "cell_type": "code",
   "execution_count": 36,
   "id": "257dd733-4861-4518-a74f-86217c006903",
   "metadata": {},
   "outputs": [
    {
     "name": "stdout",
     "output_type": "stream",
     "text": [
      "6351\n"
     ]
    }
   ],
   "source": [
    "# os.path.getsize()—获得文件的大小，如果为目录，返回0\n",
    "path3 = r\"E:\\Deep_learning\\My_code\\dtype_Nump.ipynb\"\n",
    "print(os.path.getsize(path3))"
   ]
  },
  {
   "cell_type": "code",
   "execution_count": 25,
   "id": "0817e4d7-1660-4104-995e-1d5bf86bbf3a",
   "metadata": {},
   "outputs": [
    {
     "name": "stdout",
     "output_type": "stream",
     "text": [
      "文件路径为：E:\\Deep_learning\\My_code\n",
      "文件名为：gpu_accelerate.ipynb\n",
      "\n"
     ]
    }
   ],
   "source": [
    "# os.path.split()拆分路径和文件名\n",
    "dirname, filename = os.path.split('E:\\Deep_learning\\My_code\\gpu_accelerate.ipynb')\n",
    "print(\"文件路径为：{}\".format(dirname))\n",
    "print(\"文件名为：{}\\n\".format(filename))"
   ]
  },
  {
   "cell_type": "code",
   "execution_count": 26,
   "id": "db0b7ba0-5b6f-4035-a112-cdd56562dce1",
   "metadata": {},
   "outputs": [
    {
     "name": "stdout",
     "output_type": "stream",
     "text": [
      "文件名为：E:\\Deep_learning\\My_code\\gpu_accelerate\n",
      "扩展名为：.ipynb\n",
      "\n"
     ]
    }
   ],
   "source": [
    "# os.path.splitext()拆分文件名和扩展名\n",
    "filename, ext = os.path.splitext('E:\\Deep_learning\\My_code\\gpu_accelerate.ipynb')\n",
    "print(\"文件名为：{}\".format(filename))\n",
    "print(\"扩展名为：{}\\n\".format(ext))"
   ]
  },
  {
   "cell_type": "code",
   "execution_count": 28,
   "id": "cc1bf267-68b8-4767-b61e-b2fbcf3ac3f8",
   "metadata": {},
   "outputs": [
    {
     "name": "stdout",
     "output_type": "stream",
     "text": [
      "['.', 'python_split', 'test01', 'test.py']\n",
      "['.', 'python_split/test01/test.py']\n",
      "['.', 'python_split', 'test01/test.py']\n",
      "['.', 'python_split', 'test01', 'test.py']\n",
      ".\n",
      "python_split\n",
      "test01\n",
      "test.py\n",
      "=++=++=++=++=++=++=++=++\n",
      "test01\n",
      "test.py\n"
     ]
    }
   ],
   "source": [
    "# string.split()第一个参数是分隔符，第二参数是分割次数，后面的[k]里面是分割之后的第k个子字符串\n",
    "\n",
    "'''第一个参数是分隔符，第二参数是分割次数，\n",
    "后面的[k]里面是分割之后的第k个子字符串'''\n",
    "filename = './python_split/test01/test.py'\n",
    "print(filename.split('/'))#['.', 'python_split', 'test01', 'test.py']\n",
    "print(filename.split('/', 1))#['.', 'python_split/test01/test.py']\n",
    "print(filename.split('/', 2))#['.', 'python_split', 'test01/test.py']\n",
    "print(filename.split('/', 3))#['.', 'python_split', 'test01', 'test.py']\n",
    "print(filename.split('/', 3)[0])#.\n",
    "print(filename.split('/', 3)[1])#python_split\n",
    "print(filename.split('/', 3)[2])#test01\n",
    "print(filename.split('/', 3)[3])#test.py\n",
    "print('=++=++=++=++'*2)\n",
    "print(filename.split('/',2)[2].split('/',1)[0])#test01\n",
    "print(filename.split('/',2)[2].split('/',1)[1])#test.py"
   ]
  },
  {
   "cell_type": "code",
   "execution_count": null,
   "id": "442d2684-7a01-41ba-aab4-9e6da96150f4",
   "metadata": {},
   "outputs": [],
   "source": []
  }
 ],
 "metadata": {
  "kernelspec": {
   "display_name": "zbs",
   "language": "python",
   "name": "zbs"
  },
  "language_info": {
   "codemirror_mode": {
    "name": "ipython",
    "version": 3
   },
   "file_extension": ".py",
   "mimetype": "text/x-python",
   "name": "python",
   "nbconvert_exporter": "python",
   "pygments_lexer": "ipython3",
   "version": "3.7.15"
  }
 },
 "nbformat": 4,
 "nbformat_minor": 5
}
