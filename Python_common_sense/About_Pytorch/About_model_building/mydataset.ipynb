{
 "cells": [
  {
   "cell_type": "markdown",
   "id": "cde0e998-67c8-4e1c-94d2-e3e20335e905",
   "metadata": {},
   "source": [
    "# 前言"
   ]
  },
  {
   "cell_type": "code",
   "execution_count": 2,
   "id": "6874e1fe-b368-4e37-8e79-78a7cf45e30f",
   "metadata": {},
   "outputs": [],
   "source": [
    "import torch\n",
    "import numpy as np\n",
    "from torch.utils.data import Dataset"
   ]
  },
  {
   "cell_type": "markdown",
   "id": "f0d5afc1-70e9-4269-88d7-dd3ec511a62b",
   "metadata": {},
   "source": [
    "**collate_fn：**即用于`collate`的`function`，用于整理数据的函数。\n",
    "\n",
    "说到整理数据，你当然也要会用`Dataset`，因为这个你定义好后，才会产生数据嘛，产生了数据我们才能整理数据嘛，而整理数据我们使`collate_fn`。"
   ]
  },
  {
   "cell_type": "markdown",
   "id": "b8e04bbc-35d0-4ea9-9e60-6d84ee43c16b",
   "metadata": {},
   "source": [
    "# dataset\n",
    "我们必须先看看`Dataset`如何使用"
   ]
  },
  {
   "cell_type": "code",
   "execution_count": 3,
   "id": "72cf0a8d-dcb3-4796-a626-1e28cc6f5b47",
   "metadata": {},
   "outputs": [],
   "source": [
    "class Mydataset(Dataset):\n",
    "    def __init__(self, data):\n",
    "        self.data = data\n",
    "    def __len__(self):  # 必须重写\n",
    "        return len(self.data)\n",
    "    def __getitem__(self, item):  # 必须重写\n",
    "        return self.data[item]"
   ]
  },
  {
   "cell_type": "code",
   "execution_count": 4,
   "id": "1905ab5c-f44a-4b0f-95a4-9167870af063",
   "metadata": {},
   "outputs": [
    {
     "data": {
      "text/plain": [
       "array([[0.17155927, 0.1907814 , 0.98645084],\n",
       "       [0.88504581, 0.96879911, 0.65166154],\n",
       "       [0.60206068, 0.59390369, 0.42812672],\n",
       "       [0.50019488, 0.11335474, 0.38076747]])"
      ]
     },
     "execution_count": 4,
     "metadata": {},
     "output_type": "execute_result"
    }
   ],
   "source": [
    "# 生成随机训练数据\n",
    "a = np.random.rand(4,3)\n",
    "a"
   ]
  },
  {
   "cell_type": "code",
   "execution_count": 5,
   "id": "dd4a9f1a-40f9-4fc5-ba1a-b636f22bb4c6",
   "metadata": {},
   "outputs": [
    {
     "data": {
      "text/plain": [
       "4"
      ]
     },
     "execution_count": 5,
     "metadata": {},
     "output_type": "execute_result"
    }
   ],
   "source": [
    "# 制作dataset\n",
    "dataset = Mydataset(a)\n",
    "\n",
    "# 调用了你上面定义的def __len__()那个函数\n",
    "len(dataset)    "
   ]
  },
  {
   "cell_type": "code",
   "execution_count": 6,
   "id": "af0ab8b6-e523-42f6-a2c7-096afa3cebc6",
   "metadata": {},
   "outputs": [
    {
     "data": {
      "text/plain": [
       "array([0.17155927, 0.1907814 , 0.98645084])"
      ]
     },
     "execution_count": 6,
     "metadata": {},
     "output_type": "execute_result"
    }
   ],
   "source": [
    "# 调用了你上面定义的def __getitem__()那个函数，传入的idx=0,也就是取第0个数据\n",
    "dataset[0]"
   ]
  },
  {
   "cell_type": "markdown",
   "id": "414a3455-ae09-4101-b4a9-bce81ec1a5bc",
   "metadata": {},
   "source": [
    "# 自己的理解\n",
    "# dataloader之collate_fn"
   ]
  },
  {
   "cell_type": "code",
   "execution_count": 7,
   "id": "3322fd2e-5673-4175-aaf7-31d675ab5b2b",
   "metadata": {},
   "outputs": [],
   "source": [
    "from PIL import Image\n",
    "import torch\n",
    "import numpy as np\n",
    "from torch.utils.data import Dataset"
   ]
  },
  {
   "cell_type": "code",
   "execution_count": 8,
   "id": "ef4e346d-8ce9-41a0-8b1e-748a7a2a9edb",
   "metadata": {},
   "outputs": [],
   "source": [
    "class MyDataSet(Dataset):\n",
    "    \"\"\"自定义数据集\"\"\"\n",
    "\n",
    "    def __init__(self, images_path):\n",
    "        self.images_path = images_path\n",
    "\n",
    "    def __len__(self):\n",
    "        return len(self.images_path)\n",
    "\n",
    "    def __getitem__(self, item):\n",
    "        print(\"self.images_path[item] = {}\".format(self.images_path[item]))\n",
    "        return self.images_path[item]\n",
    "\n",
    "    @staticmethod\n",
    "    def collate_fn(batch):\n",
    "        # batch 就是继承__getitem__的return\n",
    "        print('batch 就是继承__getitem__的return \\nbatch = {}'.format(batch))\n",
    "        '''\n",
    "        collate_fn的用处:\n",
    "        1、自定义数据堆叠过程\n",
    "        2、自定义batch数据的输出形式\n",
    "        3、输入输出分别域getitem函数和loader调用时对应\n",
    "        '''\n",
    "        real_batch_array = np.array(batch)\n",
    "        real_batch_torch = torch.from_numpy(real_batch_array)\n",
    "        return real_batch_array, real_batch_torch"
   ]
  },
  {
   "cell_type": "code",
   "execution_count": 10,
   "id": "f9e36195-096f-48dd-95bc-76deed469719",
   "metadata": {},
   "outputs": [
    {
     "name": "stdout",
     "output_type": "stream",
     "text": [
      "a = [[0.99354751 0.65895154 0.67163517]\n",
      " [0.18843244 0.9580079  0.34417537]\n",
      " [0.0530706  0.15131367 0.57154965]\n",
      " [0.87065658 0.21876849 0.20610153]]\n",
      "\n",
      "len(dataset) = 4\n"
     ]
    }
   ],
   "source": [
    "a = np.random.rand(4,3)\n",
    "print(\"a = {}\".format(a))\n",
    "dataset = MyDataSet(a)\n",
    "print(\"\\nlen(dataset) = {}\".format(len(dataset)))"
   ]
  },
  {
   "cell_type": "markdown",
   "id": "72e2f23e-e3f3-45fc-a6e9-7bf9dcc87e83",
   "metadata": {},
   "source": [
    "<font color=red>**1、不使用collate_fn自定义**</font>"
   ]
  },
  {
   "cell_type": "code",
   "execution_count": 13,
   "id": "6097a44a-7512-4395-a547-63e757475a8b",
   "metadata": {},
   "outputs": [],
   "source": [
    "dataloader = torch.utils.data.DataLoader(dataset, batch_size=2)"
   ]
  },
  {
   "cell_type": "code",
   "execution_count": 31,
   "id": "49ad067d-132f-412d-8c63-b8722e6b940e",
   "metadata": {},
   "outputs": [
    {
     "name": "stdout",
     "output_type": "stream",
     "text": [
      "self.images_path[item] = [0.99354751 0.65895154 0.67163517]\n",
      "self.images_path[item] = [0.18843244 0.9580079  0.34417537]\n",
      "batch 就是继承__getitem__的return \n",
      "batch = [array([0.99354751, 0.65895154, 0.67163517]), array([0.18843244, 0.9580079 , 0.34417537])]\n",
      "\n",
      "输出__getitem__ 的return值: \n",
      "(array([[0.99354751, 0.65895154, 0.67163517],\n",
      "       [0.18843244, 0.9580079 , 0.34417537]]), tensor([[0.9935, 0.6590, 0.6716],\n",
      "        [0.1884, 0.9580, 0.3442]], dtype=torch.float64))\n"
     ]
    }
   ],
   "source": [
    "images = iter(dataloader)\n",
    "print(\"\\n输出__getitem__ 的return值: \\n{}\".format(next(images)))"
   ]
  },
  {
   "cell_type": "markdown",
   "id": "15cc6508-f44a-46c3-affe-1b3e8bc9bdbe",
   "metadata": {},
   "source": [
    "<font color=red>**2、使用collate_fn自定义**</font>\n",
    "\n",
    "<table><tr><td bgcolor=yellow>collate_fn(batch)中的batch就是__getitem__ 的return值。整体运行流程如下：</td></tr></table>\n",
    "\n",
    "                                                                1、先经过__init__对参数进行实例化。\n",
    "\n",
    "                                                                2、再经过__len__返回数据集长度（数量）\n",
    "\n",
    "                                                                3、在经过__getitem__，返回第一个batch_size的数据。\n",
    "\n",
    "                                                                4、最后再进入collate_fn函数，collate_fn函数输入的data是__getitem__中return值。再执行__getitem__中的操作。\n",
    "\n",
    "**collate_fn的用处:**\n",
    "\n",
    "**1、**自定义数据堆叠过程；\n",
    "\n",
    "**2、**自定义batch数据的输出形式；\n",
    "\n",
    "**3、**输入输出分别域getitem函数和loader调用时对应；"
   ]
  },
  {
   "cell_type": "code",
   "execution_count": 27,
   "id": "b542d2ef-b470-427c-b285-605c2e1ea9f3",
   "metadata": {},
   "outputs": [],
   "source": [
    "class MyDataSet(Dataset):\n",
    "    \"\"\"自定义数据集\"\"\"\n",
    "\n",
    "    def __init__(self, images_path):\n",
    "        self.images_path = images_path\n",
    "\n",
    "    def __len__(self):\n",
    "        return len(self.images_path)\n",
    "\n",
    "    def __getitem__(self, item):\n",
    "        print(\"self.images_path[item] = {}\".format(self.images_path[item]))\n",
    "        return self.images_path[item]\n",
    "\n",
    "    @staticmethod\n",
    "    def collate_fn(batch):\n",
    "        # batch 就是继承__getitem__的return\n",
    "        print('batch 就是继承__getitem__的return \\nbatch = {}'.format(batch))\n",
    "        '''\n",
    "        collate_fn的用处:\n",
    "        1、自定义数据堆叠过程\n",
    "        2、自定义batch数据的输出形式\n",
    "        3、输入输出分别域getitem函数和loader调用时对应\n",
    "        '''\n",
    "        real_batch_array = np.array(batch)\n",
    "        real_batch_torch = torch.from_numpy(real_batch_array)\n",
    "        return real_batch_array, real_batch_torch"
   ]
  },
  {
   "cell_type": "code",
   "execution_count": 28,
   "id": "746fb94b-9b16-44eb-bf8d-337381ef9746",
   "metadata": {},
   "outputs": [],
   "source": [
    "dataloader = torch.utils.data.DataLoader(dataset, batch_size=2, collate_fn=dataset.collate_fn)"
   ]
  },
  {
   "cell_type": "code",
   "execution_count": 30,
   "id": "30d8f1c2-f307-441c-ab74-7d00ec47f1b1",
   "metadata": {},
   "outputs": [
    {
     "name": "stdout",
     "output_type": "stream",
     "text": [
      "self.images_path[item] = [0.99354751 0.65895154 0.67163517]\n",
      "self.images_path[item] = [0.18843244 0.9580079  0.34417537]\n",
      "batch 就是继承__getitem__的return \n",
      "batch = [array([0.99354751, 0.65895154, 0.67163517]), array([0.18843244, 0.9580079 , 0.34417537])]\n",
      "\n",
      "输出__getitem__ 的return值: \n",
      "(array([[0.99354751, 0.65895154, 0.67163517],\n",
      "       [0.18843244, 0.9580079 , 0.34417537]]), tensor([[0.9935, 0.6590, 0.6716],\n",
      "        [0.1884, 0.9580, 0.3442]], dtype=torch.float64))\n"
     ]
    }
   ],
   "source": [
    "images = iter(dataloader)\n",
    "print(\"\\n输出__getitem__ 的return值: \\n{}\".format(next(images)))"
   ]
  },
  {
   "cell_type": "code",
   "execution_count": null,
   "id": "d5bf6ea8-4cbc-4e7f-882e-763b82fd3945",
   "metadata": {},
   "outputs": [],
   "source": []
  },
  {
   "cell_type": "code",
   "execution_count": null,
   "id": "b46f368a-5d7e-4aa3-aac1-ab5f3633fcb6",
   "metadata": {},
   "outputs": [],
   "source": []
  },
  {
   "cell_type": "code",
   "execution_count": 22,
   "id": "eb0e313e-7092-4fbf-8f45-9d8f95ad31ac",
   "metadata": {},
   "outputs": [
    {
     "name": "stdout",
     "output_type": "stream",
     "text": [
      "tensor([[0.6462, 0.7480, 0.0054],\n",
      "        [0.7489, 0.1858, 0.4452]], dtype=torch.float64)\n",
      "tensor([[0.5116, 0.3912, 0.6276],\n",
      "        [0.3613, 0.4486, 0.2753]], dtype=torch.float64)\n"
     ]
    }
   ],
   "source": [
    "dataloader = torch.utils.data.DataLoader(dataset, batch_size = 2)"
   ]
  },
  {
   "cell_type": "code",
   "execution_count": 27,
   "id": "d6c61ceb-85c0-4eb2-be3e-7f3c7b80a6ab",
   "metadata": {},
   "outputs": [
    {
     "data": {
      "text/plain": [
       "[array([0.64617126, 0.74804519, 0.00543383]),\n",
       " array([0.74889795, 0.18576151, 0.44524304])]"
      ]
     },
     "execution_count": 27,
     "metadata": {},
     "output_type": "execute_result"
    }
   ],
   "source": [
    "batch = [dataset[0],dataset[1]]\n",
    "batch"
   ]
  },
  {
   "cell_type": "markdown",
   "id": "9e64d5e2-4322-4936-9319-42360275cc49",
   "metadata": {},
   "source": [
    "<font color=red>`batch_size=2`即一个`batch`里面会有`2`个数据。我们以第`1`个`batch`为例，`torch.utils.data.DataLoader`会根据`dataset`取出前`2`个数据，然后弄成一个列表，如下：</font>"
   ]
  },
  {
   "cell_type": "code",
   "execution_count": 23,
   "id": "b298b23b-2c38-4518-879a-65c656b3bff7",
   "metadata": {},
   "outputs": [
    {
     "name": "stdout",
     "output_type": "stream",
     "text": [
      "tensor([[0.6462, 0.7480, 0.0054],\n",
      "        [0.7489, 0.1858, 0.4452]], dtype=torch.float64)\n",
      "tensor([[0.5116, 0.3912, 0.6276],\n",
      "        [0.3613, 0.4486, 0.2753]], dtype=torch.float64)\n"
     ]
    }
   ],
   "source": [
    "# 查看 dataloader 内部默认的collate_fn【方法一】\n",
    "for step, data in enumerate(dataloader):\n",
    "    images = data\n",
    "    print(images)"
   ]
  },
  {
   "cell_type": "code",
   "execution_count": 25,
   "id": "0e0504e7-35e3-4ea4-afcd-1f031b5db2a2",
   "metadata": {},
   "outputs": [
    {
     "data": {
      "text/plain": [
       "tensor([[0.6462, 0.7480, 0.0054],\n",
       "        [0.7489, 0.1858, 0.4452]], dtype=torch.float64)"
      ]
     },
     "execution_count": 25,
     "metadata": {},
     "output_type": "execute_result"
    }
   ],
   "source": [
    "# # 查看 dataloader 内部默认的collate_fn【方法二】\n",
    "images = iter(dataloader)\n",
    "next(images)"
   ]
  },
  {
   "cell_type": "code",
   "execution_count": 26,
   "id": "fceffcdf-1ac6-4380-ac54-51c7184795e5",
   "metadata": {},
   "outputs": [
    {
     "data": {
      "text/plain": [
       "tensor([[0.5116, 0.3912, 0.6276],\n",
       "        [0.3613, 0.4486, 0.2753]], dtype=torch.float64)"
      ]
     },
     "execution_count": 26,
     "metadata": {},
     "output_type": "execute_result"
    }
   ],
   "source": [
    "next(images)"
   ]
  },
  {
   "cell_type": "markdown",
   "id": "18899228-40c7-4d8c-b248-a1f7a61f00c4",
   "metadata": {},
   "source": [
    "<font color=red>然后将上面这个batch作为参数交给`collate_fn`这个函数进行进一步整理数据，然后得到`real_batch`，作为返回值。如果你不指定这个函数是什么，那么会调用`pytorch`内部的`collate_fn`。</font>\n",
    "\n",
    "也就是说，我们如果自己要指定这个函数，`collate_fn`应该定义成下面这个样子。"
   ]
  },
  {
   "cell_type": "code",
   "execution_count": null,
   "id": "af00cb27-d997-4dbe-9dd1-4c6089ff3df5",
   "metadata": {},
   "outputs": [],
   "source": [
    "def my_collate(batch):#batch上面说过，是dataloader传进来的。\n",
    "    #你自己定义怎么整理数据。下面会说。\n",
    "    real_batch=***\n",
    "    return real_batch"
   ]
  },
  {
   "cell_type": "markdown",
   "id": "237abb92-2c16-42ba-9d10-3e89b8d193f6",
   "metadata": {},
   "source": [
    "<font color=red>batch:</font>\n",
    "\n",
    "[array([0.56998216, 0.72663738, 0.3706266 ]),\n",
    "array([0.3403586 , 0.13931333, 0.71030221])]\n",
    "\n",
    "<font color=red>real_batch:</font>\n",
    "\n",
    "tensor([[0.5700, 0.7266, 0.3706],\n",
    "[0.3404, 0.1393, 0.7103]], dtype=torch.float64)\n"
   ]
  },
  {
   "cell_type": "markdown",
   "id": "07dc2d09-c784-4539-9cd4-2a1f949a6d2b",
   "metadata": {},
   "source": [
    "**将batch变成上述real_batch很容易呀，就是把一个列表，变成了矩阵，我们也会！我们下面就来自己写一个collate_fn实现这个功能。**"
   ]
  },
  {
   "cell_type": "code",
   "execution_count": 28,
   "id": "80dd81c9-c39a-4690-b7c6-252e9e134162",
   "metadata": {},
   "outputs": [],
   "source": [
    "def my_collate(batch):\n",
    "    real_batch=np.array(batch)\n",
    "    real_batch=torch.from_numpy(real_batch)\n",
    "    return real_batch"
   ]
  },
  {
   "cell_type": "code",
   "execution_count": 29,
   "id": "b18196a3-090b-4a1d-a046-c8df7afa1794",
   "metadata": {},
   "outputs": [
    {
     "name": "stdout",
     "output_type": "stream",
     "text": [
      "tensor([[0.6462, 0.7480, 0.0054],\n",
      "        [0.7489, 0.1858, 0.4452]], dtype=torch.float64)\n",
      "tensor([[0.5116, 0.3912, 0.6276],\n",
      "        [0.3613, 0.4486, 0.2753]], dtype=torch.float64)\n"
     ]
    }
   ],
   "source": [
    "dataloader2 = torch.utils.data.DataLoader(dataset, batch_size=2,collate_fn=my_collate)\n",
    "# 查看 dataloader 内部默认的collate_fn【方法一】\n",
    "for step, data in enumerate(dataloader2):\n",
    "    images = data\n",
    "    print(images)"
   ]
  },
  {
   "cell_type": "markdown",
   "id": "0535a9f6-3860-4965-98a8-ca361413e18b",
   "metadata": {},
   "source": [
    "# 应用情形\n",
    "通常，我们并不需要使用这个函数，因为pytorch内部有一个默认的。但是，如果你的数据不规整，使用默认的会报错。例如下面的数据。\n",
    "\n",
    "假设我们还是4个输入，但是维度不固定的。之前我们是每一个数据的维度都为3。"
   ]
  },
  {
   "cell_type": "code",
   "execution_count": 30,
   "id": "f689590d-d2b3-4561-9cd8-2c04c4aebc04",
   "metadata": {},
   "outputs": [
    {
     "ename": "NameError",
     "evalue": "name 'mydataset' is not defined",
     "output_type": "error",
     "traceback": [
      "\u001b[1;31m---------------------------------------------------------------------------\u001b[0m",
      "\u001b[1;31mNameError\u001b[0m                                 Traceback (most recent call last)",
      "\u001b[1;32m~\\AppData\\Local\\Temp\\ipykernel_1148\\208953921.py\u001b[0m in \u001b[0;36m<module>\u001b[1;34m\u001b[0m\n\u001b[0;32m      1\u001b[0m \u001b[0ma\u001b[0m\u001b[1;33m=\u001b[0m\u001b[1;33m[\u001b[0m\u001b[1;33m[\u001b[0m\u001b[1;36m1\u001b[0m\u001b[1;33m,\u001b[0m\u001b[1;36m2\u001b[0m\u001b[1;33m]\u001b[0m\u001b[1;33m,\u001b[0m\u001b[1;33m[\u001b[0m\u001b[1;36m3\u001b[0m\u001b[1;33m,\u001b[0m\u001b[1;36m4\u001b[0m\u001b[1;33m,\u001b[0m\u001b[1;36m5\u001b[0m\u001b[1;33m]\u001b[0m\u001b[1;33m,\u001b[0m\u001b[1;33m[\u001b[0m\u001b[1;36m1\u001b[0m\u001b[1;33m]\u001b[0m\u001b[1;33m,\u001b[0m\u001b[1;33m[\u001b[0m\u001b[1;36m3\u001b[0m\u001b[1;33m,\u001b[0m\u001b[1;36m4\u001b[0m\u001b[1;33m,\u001b[0m\u001b[1;36m9\u001b[0m\u001b[1;33m]\u001b[0m\u001b[1;33m]\u001b[0m\u001b[1;33m\u001b[0m\u001b[1;33m\u001b[0m\u001b[0m\n\u001b[1;32m----> 2\u001b[1;33m \u001b[0mdataset\u001b[0m\u001b[1;33m=\u001b[0m\u001b[0mmydataset\u001b[0m\u001b[1;33m(\u001b[0m\u001b[0ma\u001b[0m\u001b[1;33m,\u001b[0m\u001b[0mb\u001b[0m\u001b[1;33m)\u001b[0m\u001b[1;33m\u001b[0m\u001b[1;33m\u001b[0m\u001b[0m\n\u001b[0m\u001b[0;32m      3\u001b[0m \u001b[0mdataloader\u001b[0m\u001b[1;33m=\u001b[0m\u001b[0mtud\u001b[0m\u001b[1;33m.\u001b[0m\u001b[0mDataLoader\u001b[0m\u001b[1;33m(\u001b[0m\u001b[0mdataset\u001b[0m\u001b[1;33m,\u001b[0m\u001b[0mbatch_size\u001b[0m\u001b[1;33m=\u001b[0m\u001b[1;36m2\u001b[0m\u001b[1;33m)\u001b[0m\u001b[1;33m\u001b[0m\u001b[1;33m\u001b[0m\u001b[0m\n\u001b[0;32m      4\u001b[0m \u001b[0mit\u001b[0m\u001b[1;33m=\u001b[0m\u001b[0miter\u001b[0m\u001b[1;33m(\u001b[0m\u001b[0mdataloader\u001b[0m\u001b[1;33m)\u001b[0m\u001b[1;33m\u001b[0m\u001b[1;33m\u001b[0m\u001b[0m\n\u001b[0;32m      5\u001b[0m \u001b[0mnex\u001b[0m\u001b[1;33m=\u001b[0m\u001b[0mnext\u001b[0m\u001b[1;33m(\u001b[0m\u001b[0mit\u001b[0m\u001b[1;33m)\u001b[0m\u001b[1;33m\u001b[0m\u001b[1;33m\u001b[0m\u001b[0m\n",
      "\u001b[1;31mNameError\u001b[0m: name 'mydataset' is not defined"
     ]
    }
   ],
   "source": [
    "a=[[1,2],[3,4,5],[1],[3,4,9]]\n",
    "dataset=mydataset(a,b)\n",
    "dataloader=tud.DataLoader(dataset,batch_size=2)\n",
    "it=iter(dataloader)\n",
    "nex=next(it)\n",
    "nex\n"
   ]
  },
  {
   "cell_type": "markdown",
   "id": "5c6b81ed-2895-481a-ab86-917dba05f147",
   "metadata": {},
   "source": [
    "使用默认的collate_fn，直接报错，要求相同维度。\n",
    "\n",
    "这个时候，我们可以使用自己的collate_fn，避免报错。\n",
    "\n",
    "不过话说回来，我个人感受是：\n",
    "\n",
    "在这里避免报错好像也没有什么用，因为大多数的神经网络都是定长输入的，而且很多的操作也要求相同维度才能相加或相乘，所以：这里不报错，后面还是报错。如果后面解决这个问题的方法是：在不足维度上进行补0操作，那么\n",
    "我们为什么不在建立dataset之前先补好呢？所以，collate_fn这个东西的应用场景还是有限的。不过，明白其原理总是好事。\n"
   ]
  },
  {
   "cell_type": "code",
   "execution_count": null,
   "id": "406182d3-4262-4eb0-a5e0-b4f3f642a1bb",
   "metadata": {},
   "outputs": [],
   "source": []
  }
 ],
 "metadata": {
  "kernelspec": {
   "display_name": "tc",
   "language": "python",
   "name": "tc"
  },
  "language_info": {
   "codemirror_mode": {
    "name": "ipython",
    "version": 3
   },
   "file_extension": ".py",
   "mimetype": "text/x-python",
   "name": "python",
   "nbconvert_exporter": "python",
   "pygments_lexer": "ipython3",
   "version": "3.7.15"
  }
 },
 "nbformat": 4,
 "nbformat_minor": 5
}
