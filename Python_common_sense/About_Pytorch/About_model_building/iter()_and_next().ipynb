{
 "cells": [
  {
   "cell_type": "markdown",
   "id": "6477a482-533d-41a4-bedc-94c593264d65",
   "metadata": {},
   "source": [
    "## Python迭代器的基本方法:iter()、next()"
   ]
  },
  {
   "cell_type": "markdown",
   "id": "13d08bb7-28af-4688-aa41-7aec591bf191",
   "metadata": {},
   "source": [
    "迭代器：\n",
    "+ 迭代器是一个可以记住遍历的位置的对象。\n",
    "+ 迭代器对象从集合的第一个元素开始访问，直到所有的元素被访问完结束。迭代器只能往前不会后退。\n",
    "\n",
    "通常在我们对iter()、next()进行简单使用时是这样的："
   ]
  },
  {
   "cell_type": "code",
   "execution_count": 2,
   "id": "068e9d06-1a7f-4f2c-aa7c-fc036e82a904",
   "metadata": {},
   "outputs": [
    {
     "name": "stdout",
     "output_type": "stream",
     "text": [
      "1\n",
      "2\n",
      "3\n"
     ]
    }
   ],
   "source": [
    "a=[1,2,3]\n",
    "it=iter(a) #创建迭代器对象\n",
    "print(next(it))   #输出迭代器下一项\n",
    "print(next(it)) \n",
    "print(next(it)) "
   ]
  },
  {
   "cell_type": "markdown",
   "id": "c2a88dce-183f-48e3-a15e-656679c85a51",
   "metadata": {},
   "source": [
    "## 当看到使用自定义迭代器时，有些问题着实疑惑，看如下代码："
   ]
  },
  {
   "cell_type": "code",
   "execution_count": 3,
   "id": "5357501d-07d8-4ecb-afd7-3ee44b65e9b0",
   "metadata": {},
   "outputs": [
    {
     "name": "stdout",
     "output_type": "stream",
     "text": [
      "1\n",
      "2\n",
      "3\n",
      "4\n",
      "5\n"
     ]
    }
   ],
   "source": [
    "class MyNumbers:\n",
    "  def __iter__(self):\n",
    "    self.a = 1\n",
    "    return self\n",
    " \n",
    "  def __next__(self):\n",
    "    x = self.a\n",
    "    self.a += 1\n",
    "    return x\n",
    " \n",
    "myclass = MyNumbers()\n",
    "myiter = iter(myclass)\n",
    " \n",
    "print(next(myiter))\n",
    "print(next(myiter))\n",
    "print(next(myiter))\n",
    "print(next(myiter))\n",
    "print(next(myiter))"
   ]
  },
  {
   "cell_type": "markdown",
   "id": "d4b33a7a-a899-45d5-8b57-f4166ce64420",
   "metadata": {},
   "source": [
    "上述是菜鸟教程给的实例\n",
    "\n",
    "`我的疑惑点：`\n",
    "+ iter()咋直接对实例化对象myclass直接操作了起来？\n",
    "+ iter()、next()如上操作的原理是啥？内部过程是啥？\n",
    "\n",
    "随着这些问题继续探究"
   ]
  },
  {
   "cell_type": "code",
   "execution_count": null,
   "id": "ed0535ba-617d-4fda-9b7e-f6a7d86b3387",
   "metadata": {},
   "outputs": [],
   "source": []
  },
  {
   "cell_type": "code",
   "execution_count": null,
   "id": "a8417998-c1ea-4ddd-b5ca-17359bce7a87",
   "metadata": {},
   "outputs": [],
   "source": []
  }
 ],
 "metadata": {
  "kernelspec": {
   "display_name": "zbs",
   "language": "python",
   "name": "zbs"
  },
  "language_info": {
   "codemirror_mode": {
    "name": "ipython",
    "version": 3
   },
   "file_extension": ".py",
   "mimetype": "text/x-python",
   "name": "python",
   "nbconvert_exporter": "python",
   "pygments_lexer": "ipython3",
   "version": "3.7.15"
  }
 },
 "nbformat": 4,
 "nbformat_minor": 5
}
